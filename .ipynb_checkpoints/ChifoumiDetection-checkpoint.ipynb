{
 "cells": [
  {
   "cell_type": "markdown",
   "metadata": {},
   "source": [
    "# 1. Collection des données"
   ]
  },
  {
   "cell_type": "markdown",
   "metadata": {},
   "source": [
    "## 1.1 Installation des dépendances"
   ]
  },
  {
   "cell_type": "code",
   "execution_count": null,
   "metadata": {},
   "outputs": [],
   "source": [
    "pip install labelme tensorflow opencv-python matplotlib albumentations"
   ]
  },
  {
   "cell_type": "markdown",
   "metadata": {},
   "source": [
    "## 1.2 Collection des images"
   ]
  },
  {
   "cell_type": "code",
   "execution_count": 2,
   "metadata": {},
   "outputs": [],
   "source": [
    "import os\n",
    "import time\n",
    "import uuid\n",
    "import cv2"
   ]
  },
  {
   "cell_type": "code",
   "execution_count": 3,
   "metadata": {},
   "outputs": [],
   "source": [
    "IMAGES_PATH = os.path.join('data','images')\n",
    "RAW_IMAGES_PATH = os.path.join('data','raw_images')\n",
    "\n",
    "NUMBER_OF_IMAGES = 30"
   ]
  },
  {
   "cell_type": "code",
   "execution_count": 4,
   "metadata": {},
   "outputs": [
    {
     "name": "stdout",
     "output_type": "stream",
     "text": [
      "Capture de l'image 0\n",
      "Capture de l'image 1\n",
      "Capture de l'image 2\n",
      "Capture de l'image 3\n",
      "Capture de l'image 4\n",
      "Capture de l'image 5\n",
      "Capture de l'image 6\n",
      "Capture de l'image 7\n",
      "Capture de l'image 8\n",
      "Capture de l'image 9\n",
      "Capture de l'image 10\n",
      "Capture de l'image 11\n",
      "Capture de l'image 12\n",
      "Capture de l'image 13\n",
      "Capture de l'image 14\n",
      "Capture de l'image 15\n",
      "Capture de l'image 16\n",
      "Capture de l'image 17\n",
      "Capture de l'image 18\n",
      "Capture de l'image 19\n",
      "Capture de l'image 20\n",
      "Capture de l'image 21\n",
      "Capture de l'image 22\n",
      "Capture de l'image 23\n",
      "Capture de l'image 24\n",
      "Capture de l'image 25\n",
      "Capture de l'image 26\n",
      "Capture de l'image 27\n",
      "Capture de l'image 28\n",
      "Capture de l'image 29\n"
     ]
    }
   ],
   "source": [
    "cap = cv2.VideoCapture(0)\n",
    "time.sleep(5)\n",
    "\n",
    "for i in range(NUMBER_OF_IMAGES):\n",
    "    print(f\"Capture de l'image {i}\")\n",
    "    time.sleep(2)\n",
    "    \n",
    "    success, frame = cap.read()\n",
    "    if not success:\n",
    "        print(\"Impossible de capturer l'image\")\n",
    "        break\n",
    "\n",
    "    image_path = os.path.join(RAW_IMAGES_PATH, f'{uuid.uuid1()}.jpg')\n",
    "    \n",
    "    cv2.imwrite(image_path, frame)\n",
    "    cv2.imshow('frame', frame)\n",
    "    \n",
    "    if cv2.waitKey(1) & 0xFF == ord('q'): \n",
    "        break\n",
    "\n",
    "cap.release()\n",
    "cv2.destroyAllWindows()"
   ]
  },
  {
   "cell_type": "markdown",
   "metadata": {},
   "source": [
    "## 1.3 Annotation des images avec LabelMe"
   ]
  },
  {
   "cell_type": "code",
   "execution_count": null,
   "metadata": {},
   "outputs": [],
   "source": [
    "!labelme"
   ]
  }
 ],
 "metadata": {
  "kernelspec": {
   "display_name": "Python 3 (ipykernel)",
   "language": "python",
   "name": "python3"
  },
  "language_info": {
   "codemirror_mode": {
    "name": "ipython",
    "version": 3
   },
   "file_extension": ".py",
   "mimetype": "text/x-python",
   "name": "python",
   "nbconvert_exporter": "python",
   "pygments_lexer": "ipython3",
   "version": "3.9.0"
  }
 },
 "nbformat": 4,
 "nbformat_minor": 4
}
